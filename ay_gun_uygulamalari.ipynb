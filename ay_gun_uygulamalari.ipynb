{
 "cells": [
  {
   "cell_type": "code",
   "execution_count": 1,
   "metadata": {},
   "outputs": [
    {
     "name": "stdout",
     "output_type": "stream",
     "text": [
      "{1: 'Pazartesi', 2: 'Salı', 3: 'Çarşamba', 4: 'Perşembe', 5: 'Cuma', 6: 'Cumartesi', 7: 'Pazar'} \n",
      "\n"
     ]
    },
    {
     "name": "stdin",
     "output_type": "stream",
     "text": [
      "Lütfen silinmesini istediğiniz 2 gün seçiniz {numaraları ile, (23 gibi)}: 35\n"
     ]
    },
    {
     "name": "stdout",
     "output_type": "stream",
     "text": [
      "\n",
      "['Pazartesi', 'Salı', 'Perşembe', 'Cumartesi', 'Pazar']\n"
     ]
    }
   ],
   "source": [
    "haftanin_gunleri = {1:\"Pazartesi\", 2:\"Salı\", 3:\"Çarşamba\", 4:\"Perşembe\", 5:\"Cuma\", 6:\"Cumartesi\", 7:\"Pazar\"}\n",
    "print(haftanin_gunleri, \"\\n\")\n",
    "x = input(\"Lütfen silinmesini istediğiniz 2 gün seçiniz {numaraları ile, (23 gibi)}:\")\n",
    "del haftanin_gunleri[int(x[0])]\n",
    "del haftanin_gunleri[int(x[1])]\n",
    "print()\n",
    "print(list(haftanin_gunleri.values()))"
   ]
  },
  {
   "cell_type": "code",
   "execution_count": 26,
   "metadata": {},
   "outputs": [
    {
     "name": "stdout",
     "output_type": "stream",
     "text": [
      "Aylar Gün Sayıları ile: [('Ocak', 31), ('Şubat', 28), ('Mart', 31), ('Nisan', 30), ('Mayıs', 31), ('Haziran', 30), ('Temmuz', 31), ('Ağustos', 31), ('Eylül', 30), ('Ekim', 31), ('Kasım', 30), ('Aralık', 31)]\n"
     ]
    }
   ],
   "source": [
    "aylar_gun_sayilari_ile ={\"Ocak\" : 31, \"Şubat\" : 28, \"Mart\" : 31, \"Nisan\" : 30, \"Mayıs\" : 31, \"Haziran\" : 30,\n",
    "                         \"Temmuz\" : 31, \"Ağustos\" : 31, \"Eylül\" : 30, \"Ekim\" : 31, \"Kasım\" : 30, \"Aralık\" : 31}\n",
    "\n",
    "print (\"Aylar Gün Sayıları ile:\", list(aylar_gun_sayilari_ile.items()))"
   ]
  },
  {
   "cell_type": "code",
   "execution_count": 45,
   "metadata": {},
   "outputs": [
    {
     "name": "stdout",
     "output_type": "stream",
     "text": [
      "[['Ocak', 'Şubat', 'Mart', 'Nisan', 'Mayıs', 'Haziran', 'Temmuz', 'Ağustos', 'Eylül', 'Ekim', 'Kasım', 'Aralık'], [31, 28, 31, 30, 31, 30, 31, 31, 30, 31, 30, 31]]\n"
     ]
    }
   ],
   "source": [
    "aylar_gun_sayilari_ile ={\"Ocak\" : 31, \"Şubat\" : 28, \"Mart\" : 31, \"Nisan\" : 30, \"Mayıs\" : 31, \"Haziran\" : 30,\n",
    "                         \"Temmuz\" : 31, \"Ağustos\" : 31, \"Eylül\" : 30, \"Ekim\" : 31, \"Kasım\" : 30, \"Aralık\" : 31}\n",
    "\n",
    "aylar_ve_gunler = list(aylar_gun_sayilari_ile.keys()), list(aylar_gun_sayilari_ile.values())\n",
    "\n",
    "print(list(aylar_ve_gunler))"
   ]
  },
  {
   "cell_type": "code",
   "execution_count": 216,
   "metadata": {},
   "outputs": [
    {
     "name": "stdout",
     "output_type": "stream",
     "text": [
      "İlkbahar Ayları : [('Mart', 31), ('Nisan', 30), ('Mayıs', 31)]\n",
      "Yaz Ayları      : [('Haziran', 30), ('Temmuz', 31), ('Ağustos', 31)]\n",
      "Sonbahar Ayları : [('Eylül', 30), ('Ekim', 31), ('Kasım', 30)]\n",
      "Kış Ayları      : [('Aralık', 31), ('Ocak', 31), ('Şubat', 28)]\n"
     ]
    }
   ],
   "source": [
    "aylar_gun_sayilari_ile ={\"Ocak\" : 31, \"Şubat\" : 28, \"Mart\" : 31, \"Nisan\" : 30, \"Mayıs\" : 31, \"Haziran\" : 30,\n",
    "                         \"Temmuz\" : 31, \"Ağustos\" : 31, \"Eylül\" : 30, \"Ekim\" : 31, \"Kasım\" : 30, \"Aralık\" : 31}\n",
    "\n",
    "ilkbahar = list(aylar_gun_sayilari_ile.items())[2:5]\n",
    "yaz      = list(aylar_gun_sayilari_ile.items())[5:8]\n",
    "sonbahar = list(aylar_gun_sayilari_ile.items())[8:11] \n",
    "kis      = [list(aylar_gun_sayilari_ile.items())[11], list(aylar_gun_sayilari_ile.items())[0],\n",
    "            list(aylar_gun_sayilari_ile.items())[1]]\n",
    "\n",
    "print(\"İlkbahar Ayları :\", ilkbahar)\n",
    "print(\"Yaz Ayları      :\", yaz)\n",
    "print(\"Sonbahar Ayları :\", sonbahar)\n",
    "print(\"Kış Ayları      :\", kis)"
   ]
  },
  {
   "cell_type": "code",
   "execution_count": 219,
   "metadata": {},
   "outputs": [
    {
     "name": "stdout",
     "output_type": "stream",
     "text": [
      "İlkbahar mevsimi 92 gün sürmektedir.\n",
      "Yaz mevsimi 92 gün sürmektedir.\n",
      "Sonbahar mevsimi 91 gün sürmektedir.\n",
      "Kış mevsimi 90 gün sürmektedir.\n"
     ]
    }
   ],
   "source": [
    "aylar_gun_sayilari_ile ={\"Ocak\" : 31, \"Şubat\" : 28, \"Mart\" : 31, \"Nisan\" : 30, \"Mayıs\" : 31, \"Haziran\" : 30,\n",
    "                         \"Temmuz\" : 31, \"Ağustos\" : 31, \"Eylül\" : 30, \"Ekim\" : 31, \"Kasım\" : 30, \"Aralık\" : 31}\n",
    "\n",
    "ilkbahar = list(aylar_gun_sayilari_ile.items())[2:5]\n",
    "yaz      = list(aylar_gun_sayilari_ile.items())[5:8]\n",
    "sonbahar = list(aylar_gun_sayilari_ile.items())[8:11]\n",
    "kis      = [list(aylar_gun_sayilari_ile.items())[11], list(aylar_gun_sayilari_ile.items())[0],\n",
    "            list(aylar_gun_sayilari_ile.items())[1]]\n",
    "\n",
    "print(\"İlkbahar mevsimi\", (ilkbahar[0][1] + ilkbahar[1][1] + ilkbahar[2][1]), \"gün sürmektedir.\")\n",
    "print(\"Yaz mevsimi\", (yaz[0][1] + yaz[1][1] + yaz[2][1]), \"gün sürmektedir.\")\n",
    "print(\"Sonbahar mevsimi\", (sonbahar[0][1] + sonbahar[1][1] + sonbahar[2][1]), \"gün sürmektedir.\")\n",
    "print(\"Kış mevsimi\", (kis[0][1] + kis[1][1] + kis[2][1]), \"gün sürmektedir.\")"
   ]
  }
 ],
 "metadata": {
  "kernelspec": {
   "display_name": "Python 3",
   "language": "python",
   "name": "python3"
  },
  "language_info": {
   "codemirror_mode": {
    "name": "ipython",
    "version": 3
   },
   "file_extension": ".py",
   "mimetype": "text/x-python",
   "name": "python",
   "nbconvert_exporter": "python",
   "pygments_lexer": "ipython3",
   "version": "3.7.3"
  }
 },
 "nbformat": 4,
 "nbformat_minor": 4
}
