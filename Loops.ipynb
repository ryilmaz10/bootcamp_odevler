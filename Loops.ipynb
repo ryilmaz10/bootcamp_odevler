{
 "cells": [
  {
   "cell_type": "code",
   "execution_count": null,
   "metadata": {},
   "outputs": [
    {
     "name": "stdin",
     "output_type": "stream",
     "text": [
      "Sıcaklık değerini giriniz (35C, 87F gibi): 34F\n"
     ]
    },
    {
     "name": "stdout",
     "output_type": "stream",
     "text": [
      "\"34F\" --> \"1.1C\"\n"
     ]
    }
   ],
   "source": [
    "# C/F çevrimi (C = (5/9) * (F - 32))\n",
    "\n",
    "while True:\n",
    "    s = input(\"Sıcaklık değerini giriniz (35C, 87F gibi):\")\n",
    "\n",
    "    if s[2] == \"F\":\n",
    "        print('\"', s, '\"', \" --> \", '\"', \"{:0.1f}\".format((5/9)*(int(s[0:2])- 32)), \"C\", '\"', sep=\"\")\n",
    "    elif s[2] == \"C\":\n",
    "        print('\"', s, '\"', \" --> \", '\"', \"{:0.1f}\".format(((9/5)*(int(s[0:2]))) + 32), \"F\",'\"', sep=\"\")\n",
    "    elif s[3] == \"F\":\n",
    "        print('\"', s, '\"', \" --> \", '\"', \"{:0.1f}\".format((5/9)*(int(s[0:3])- 32)), \"C\", '\"', sep=\"\")\n",
    "    elif s[3] == \"C\":\n",
    "        print('\"', s, '\"', \" --> \", '\"', \"{:0.1f}\".format(((9/5)*(int(s[0:3]))) + 32), \"F\",'\"', sep=\"\")\n",
    "    else:\n",
    "        print(\"Lütfen uygun bir sayı giriniz!\")"
   ]
  },
  {
   "cell_type": "code",
   "execution_count": 1,
   "metadata": {},
   "outputs": [
    {
     "name": "stdin",
     "output_type": "stream",
     "text": [
      "Lütfen tersten yazılmasını istediğiniz kelimeyi girin:  inside out\n"
     ]
    },
    {
     "name": "stdout",
     "output_type": "stream",
     "text": [
      "tuo edisni\n",
      "tuo edisni\n"
     ]
    }
   ],
   "source": [
    "# Kullanıcının girdiği kelimeyi ters çeviren bir kod yazınız.\n",
    "\n",
    "kelime = input(\"Lütfen tersten yazılmasını istediğiniz kelimeyi girin: \")\n",
    "\n",
    "for i in range(len(kelime)-1, -1, -1):\n",
    "    print(kelime[i], end=\"\")\n",
    "print()\n",
    "print(kelime[::-1])"
   ]
  },
  {
   "cell_type": "code",
   "execution_count": 41,
   "metadata": {},
   "outputs": [
    {
     "name": "stdout",
     "output_type": "stream",
     "text": [
      "[1, 1, 2, 3, 5, 8, 13, 21, 34, 55, 89, 144, 233, 377, 610, 987, 1597, 2584, 4181, 6765, 10946, 17711, 28657, 46368, 75025, 121393, 196418, 317811, 514229, 832040, 1346269, 2178309, 3524578, 5702887, 9227465, 14930352, 24157817, 39088169, 63245986, 102334155, 165580141, 267914296, 433494437, 701408733, 1134903170, 1836311903, 2971215073, 4807526976, 7778742049, 12586269025, 20365011074, 32951280099]\n"
     ]
    }
   ],
   "source": [
    "# 1'den 50'ye kadar olan Fibonacci sayılarından oluşan bir liste oluşturun.\n",
    "# İlk iki Fibonacci sayısı 1'dir. Sonraki sayılar, önceki iki sayının toplamıdır.\n",
    "\n",
    "fibo =[1, 1]\n",
    "[fibo.append(fibo[n-1] + fibo[n]) for n in range(1,51)]\n",
    "    \n",
    "print(fibo)"
   ]
  },
  {
   "cell_type": "code",
   "execution_count": 15,
   "metadata": {},
   "outputs": [
    {
     "name": "stdin",
     "output_type": "stream",
     "text": [
      "Bir sayı giriniz : 6\n"
     ]
    },
    {
     "name": "stdout",
     "output_type": "stream",
     "text": [
      "6 x 1 = 6\n",
      "6 x 2 = 12\n",
      "6 x 3 = 18\n",
      "6 x 4 = 24\n",
      "6 x 5 = 30\n",
      "6 x 6 = 36\n",
      "6 x 7 = 42\n",
      "6 x 8 = 48\n",
      "6 x 9 = 54\n",
      "6 x 10 = 60\n"
     ]
    }
   ],
   "source": [
    "# Girilen bir sayı için çarpım tablosunu yazdırın.\n",
    "\n",
    "sayi = int(input(\"Bir sayı giriniz :\"))\n",
    "sayac = 0\n",
    "while sayac < 10:\n",
    "    sayac +=1\n",
    "    print(sayi, \"x\", sayac, \"=\", sayi * sayac)"
   ]
  },
  {
   "cell_type": "code",
   "execution_count": 22,
   "metadata": {},
   "outputs": [
    {
     "name": "stdout",
     "output_type": "stream",
     "text": [
      "[1, 8, 9, 64, 25, 216, 49, 512, 81, 1000, 121, 1728, 169, 2744, 225, 4096, 289, 5832, 361, 8000]\n",
      "\n",
      "[1, 8, 9, 64, 25, 216, 49, 512, 81, 1000, 121, 1728, 169, 2744, 225, 4096, 289, 5832, 361, 8000]\n"
     ]
    }
   ],
   "source": [
    "# List comprehension kullanarak, 1'den 20'ye kadar tek sayıların karesini,\n",
    "# çift sayıların küpünü içeren bir liste oluşturun\n",
    "\n",
    "tek_kare_cift_kup = [n ** 2 if n % 2 != 0 else n ** 3 for n in range(1,21)]\n",
    "print(tek_kare_cift_kup)\n",
    "print()\n",
    "print([n**2 if n%2!=0 else n**3 for n in range(1,21)])"
   ]
  }
 ],
 "metadata": {
  "kernelspec": {
   "display_name": "Python 3",
   "language": "python",
   "name": "python3"
  },
  "language_info": {
   "codemirror_mode": {
    "name": "ipython",
    "version": 3
   },
   "file_extension": ".py",
   "mimetype": "text/x-python",
   "name": "python",
   "nbconvert_exporter": "python",
   "pygments_lexer": "ipython3",
   "version": "3.7.4"
  }
 },
 "nbformat": 4,
 "nbformat_minor": 4
}
