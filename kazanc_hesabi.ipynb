{
 "cells": [
  {
   "cell_type": "code",
   "execution_count": 1,
   "metadata": {},
   "outputs": [
    {
     "name": "stdin",
     "output_type": "stream",
     "text": [
      "Anaparanızı giriniz          : 1000\n",
      "Günlük artış oranını giriniz : 12\n",
      "Gün sayısını giriniz         : 7\n"
     ]
    },
    {
     "name": "stdout",
     "output_type": "stream",
     "text": [
      "\n",
      "7 gün sonunda paranız       : 2210.68 dolar olur.\n",
      "\n",
      "Hafta başında 1000 dolarlık bitcoin aldığımızda günde ortalama %12\n",
      "kazançla, bir hafta sonunda 1210.68 dolar kazanırdık.\n"
     ]
    }
   ],
   "source": [
    "# anapara, artış oranı ve gün sayısına göre kazanc hesabı\n",
    "\n",
    "anapara = input(\"Anaparanızı giriniz          :\")\n",
    "artis_orani = input(\"Günlük artış oranını giriniz :\")\n",
    "gun_sayisi = input(\"Gün sayısını giriniz         :\")\n",
    "sonuc = int(anapara)*((1 + (int(artis_orani)/100))**int(gun_sayisi))\n",
    "print()\n",
    "print(gun_sayisi, \"gün sonunda paranız       :\", \"{:0.2f}\".format(sonuc), \"dolar olur.\" \"\\n\")\n",
    " \n",
    "print(\"\"\"Hafta başında {} dolarlık bitcoin aldığımızda günde ortalama %{}\n",
    "kazançla, bir hafta sonunda {:0.2f} dolar kazanırdık.\"\"\".format(anapara, artis_orani, sonuc - float(anapara)))"
   ]
  },
  {
   "cell_type": "code",
   "execution_count": 2,
   "metadata": {
    "scrolled": true
   },
   "outputs": [
    {
     "name": "stdin",
     "output_type": "stream",
     "text": [
      "Dosya adını giriniz : sample\n"
     ]
    },
    {
     "name": "stdout",
     "output_type": "stream",
     "text": [
      "sample.py\n"
     ]
    }
   ],
   "source": [
    "dosya_adi = input(\"Dosya adını giriniz :\")\n",
    "print (dosya_adi + \".py\")"
   ]
  }
 ],
 "metadata": {
  "kernelspec": {
   "display_name": "Python 3",
   "language": "python",
   "name": "python3"
  },
  "language_info": {
   "codemirror_mode": {
    "name": "ipython",
    "version": 3
   },
   "file_extension": ".py",
   "mimetype": "text/x-python",
   "name": "python",
   "nbconvert_exporter": "python",
   "pygments_lexer": "ipython3",
   "version": "3.7.3"
  }
 },
 "nbformat": 4,
 "nbformat_minor": 4
}
